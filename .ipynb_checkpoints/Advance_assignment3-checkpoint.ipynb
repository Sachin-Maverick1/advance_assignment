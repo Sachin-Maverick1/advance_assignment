{
 "cells": [
  {
   "cell_type": "code",
   "execution_count": 31,
   "id": "4bc6f75a-2d2a-4bae-ba09-329b46ec16e4",
   "metadata": {},
   "outputs": [
    {
     "name": "stdin",
     "output_type": "stream",
     "text": [
      "take the string from the user: sachin_rajput\n"
     ]
    },
    {
     "name": "stdout",
     "output_type": "stream",
     "text": [
      "tupjar_nihcas\n"
     ]
    }
   ],
   "source": [
    "#ques:1»»Write a code to reverse a string\n",
    "name = input(\"take the string from the user:\")\n",
    "name1 = list(name)\n",
    "reverse = []\n",
    "i = len(name1)\n",
    "\n",
    "while i > 0:\n",
    "    reverse.append(name1[i-1])\n",
    "    i = i - 1\n",
    "print(\"\".join(reverse))\n"
   ]
  },
  {
   "cell_type": "code",
   "execution_count": 42,
   "id": "8fb15366-e6b8-42fb-89fa-d052bee62411",
   "metadata": {},
   "outputs": [
    {
     "name": "stdin",
     "output_type": "stream",
     "text": [
      "please enter the string: sachin\n"
     ]
    },
    {
     "name": "stdout",
     "output_type": "stream",
     "text": [
      "a\n",
      "i\n"
     ]
    }
   ],
   "source": [
    "#Ques:2»» Write a code to count the number of vowels in a string\u0012\n",
    "user_string=input(\"please enter the string:\")\n",
    "a=[\"u\",\"o\",\"e\",\"i\",\"a\"]\n",
    "for i in user_string:\n",
    "    if i in a:\n",
    "        print(i)"
   ]
  },
  {
   "cell_type": "code",
   "execution_count": 45,
   "id": "948d4870-d2cc-4226-9f2c-9a96ef9035ca",
   "metadata": {},
   "outputs": [
    {
     "name": "stdin",
     "output_type": "stream",
     "text": [
      "hey user enter the string of your choice: txt\n"
     ]
    },
    {
     "name": "stdout",
     "output_type": "stream",
     "text": [
      "yes , it is palindrome\n"
     ]
    }
   ],
   "source": [
    "#Ques:3»» Write a code to check if a given string is a palindrome or not\u0012\n",
    "user_string=input(\"hey user enter the string of your choice:\")\n",
    "reverse=[]\n",
    "i=len(user_string)\n",
    "while i >0:\n",
    "    reverse.append(user_string[i-1])\n",
    "    i=i-1\n",
    "c=(\"\".join(reverse))  \n",
    "if c==user_string:\n",
    "    print(\"yes , it is palindrome\")\n",
    "else:\n",
    "    print(\"not a palindorme\")"
   ]
  },
  {
   "cell_type": "code",
   "execution_count": 49,
   "id": "a5870ca9-ca54-4e15-8382-63aa6e0256bd",
   "metadata": {},
   "outputs": [
    {
     "name": "stdin",
     "output_type": "stream",
     "text": [
      "hey user give your girlfriend name: nap\n",
      "hey user give your girlfriend name: pan\n"
     ]
    },
    {
     "name": "stdout",
     "output_type": "stream",
     "text": [
      "yes these strings are anagrams of each others\n"
     ]
    }
   ],
   "source": [
    "#Ques:4»» Write a code to check if two given strings are anagrams of each other\u0012\n",
    "user_string=input(\"hey user give your girlfriend name:\")\n",
    "user_string1=input(\"hey user give your girlfriend name:\")\n",
    "a=sorted(user_string)\n",
    "b=sorted(user_string1)\n",
    "if a==b:\n",
    "    print(\"yes these strings are anagrams of each others\")\n",
    "else:\n",
    "    print(\"not a anagrams\")"
   ]
  },
  {
   "cell_type": "code",
   "execution_count": 11,
   "id": "b5bbea88-5a02-4af0-aa7e-c24405a18812",
   "metadata": {},
   "outputs": [
    {
     "name": "stdin",
     "output_type": "stream",
     "text": [
      "hey user give your string sachinacac\n",
      "hey give ur substring ac\n"
     ]
    },
    {
     "name": "stdout",
     "output_type": "stream",
     "text": [
      "3 ac\n"
     ]
    }
   ],
   "source": [
    "#ques:5»»Write a code to find all occurrences of a given substring within another string\u0012\n",
    "user_string=input(\"hey user give your string\")\n",
    "user=input(\"hey give ur substring\")\n",
    "count=0\n",
    "for i in range(len(user_string)):\n",
    "    if user_string[i:i+len(user)]==user:\n",
    "        count=count+1\n",
    "print(count,user)        \n",
    "\n"
   ]
  },
  {
   "cell_type": "code",
   "execution_count": 48,
   "id": "e9b272fc-0583-4a96-ab02-d5e05abac6c2",
   "metadata": {},
   "outputs": [
    {
     "name": "stdin",
     "output_type": "stream",
     "text": [
      "hey enter the string afdadsfdfddddddd\n"
     ]
    },
    {
     "name": "stdout",
     "output_type": "stream",
     "text": [
      "a1f1d1a1d1s1f1d1f1d7\n"
     ]
    }
   ],
   "source": [
    "#ques:6»»Write a code to perform basic string compression using the counts of repeated characters\u0012\n",
    "user=input(\"hey enter the string\")\n",
    "count=1\n",
    "compressed_str=\"\"\n",
    "for i in range(1,len(user)):\n",
    "    if user[i]==user[i-1]:\n",
    "        count =count+1\n",
    "    else:\n",
    "        compressed_str=compressed_str+user[i-1]+str(count)\n",
    "if user:\n",
    "    compressed_str=compressed_str+user[-1]+str(count)\n",
    "print(compressed_str)  \n",
    "\n"
   ]
  },
  {
   "cell_type": "code",
   "execution_count": 5,
   "id": "2823d4e1-3eb9-4dc3-a867-b1e9ec9a9ef9",
   "metadata": {},
   "outputs": [
    {
     "name": "stdin",
     "output_type": "stream",
     "text": [
      "hey enter the string: saachin\n"
     ]
    },
    {
     "name": "stdout",
     "output_type": "stream",
     "text": [
      "not having the unique elements\n"
     ]
    }
   ],
   "source": [
    "#Ques:7»»Write a code to determine if a string has all unique characters\u0012\n",
    "user=input(\"hey enter the string:\")\n",
    "count =0\n",
    "for i in range(0,len(user)):\n",
    "    if user[i-1]==user[i]:\n",
    "        count=count+1\n",
    "#print(count)\n",
    "if count ==0:\n",
    "    print(\"it have all unique elements\")\n",
    "else:\n",
    "    print(\"not having the unique elements\")\n"
   ]
  },
  {
   "cell_type": "code",
   "execution_count": 8,
   "id": "6c76110b-02ed-4897-8759-274946bc354d",
   "metadata": {},
   "outputs": [
    {
     "name": "stdin",
     "output_type": "stream",
     "text": [
      "hey enter the string: SAchIn RaJpUt\n"
     ]
    },
    {
     "name": "stdout",
     "output_type": "stream",
     "text": [
      "sachin rajput\n",
      "SACHIN RAJPUT\n"
     ]
    }
   ],
   "source": [
    "#Ques:8»»Write a code to convert a given string to uppercase or lowercase\u0012\n",
    "user=input(\"hey enter the string:\")\n",
    "#converting into the lower_case\n",
    "print(user.lower())\n",
    "print(user.upper())"
   ]
  },
  {
   "cell_type": "code",
   "execution_count": 17,
   "id": "36023ca5-04c9-4b4b-bbc1-d32ff5ada1f7",
   "metadata": {},
   "outputs": [
    {
     "name": "stdin",
     "output_type": "stream",
     "text": [
      "hey enter the string Sachin is here for you all guys \n"
     ]
    },
    {
     "name": "stdout",
     "output_type": "stream",
     "text": [
      "number of words in a string is: 7\n"
     ]
    }
   ],
   "source": [
    "#ques:9»» Write a code to count the number of words in a string\u0012\n",
    "user=input(\"hey enter the string\")\n",
    "words = user.split()\n",
    "c=len(words)\n",
    "print(\"number of words in a string is:\",c)"
   ]
  },
  {
   "cell_type": "code",
   "execution_count": 25,
   "id": "f606f17b-4ec8-456a-9a51-112d8b12c29f",
   "metadata": {},
   "outputs": [
    {
     "name": "stdin",
     "output_type": "stream",
     "text": [
      "hey enter the string : sachin\n",
      "hey enter the string :  rajput\n"
     ]
    },
    {
     "name": "stdout",
     "output_type": "stream",
     "text": [
      "sachin rajput\n"
     ]
    }
   ],
   "source": [
    "#Ques:10»»Write a code to concatenate two strings without using the + operator\u0012\n",
    "user1 =(input (\"hey enter the string :\"))\n",
    "user2 =(input (\"hey enter the string :\"))\n",
    "user= \"\".join([user1,user2])\n",
    "print(user)"
   ]
  },
  {
   "cell_type": "code",
   "execution_count": 37,
   "id": "da9f870a-b8c9-40e5-8b69-717c7ac3e383",
   "metadata": {},
   "outputs": [
    {
     "name": "stdout",
     "output_type": "stream",
     "text": [
      "['sachin', 'rajput']\n"
     ]
    }
   ],
   "source": [
    "#ques:11»» Write a code to remove all occurrences of a specific element from a list\u0012\n",
    "sach=[\"sachin\",\"rajput\",\"hello\"]\n",
    "(sach.remove(\"hello\"))\n",
    "print(sach)"
   ]
  },
  {
   "cell_type": "code",
   "execution_count": 42,
   "id": "ad7b4fe6-38ef-4213-ab42-f54e5cf2e1b4",
   "metadata": {},
   "outputs": [
    {
     "name": "stdout",
     "output_type": "stream",
     "text": [
      "123\n",
      "45.5\n"
     ]
    }
   ],
   "source": [
    "#Ques:12»» Implement a code to find the second largest number in a given list of integers\u0012\n",
    "user=[12,13,45.5,123,45]\n",
    "max=0\n",
    "for i in range(len(user)):\n",
    "    if user[i-1]<user[i]:\n",
    "        max=user[i]\n",
    "print(max)   \n",
    "sec_max=0\n",
    "for y in range(len(user)):\n",
    "    if user[y]>user[y-1] and user[y]<max:\n",
    "        sec_max=user[y]\n",
    "print(sec_max)\n",
    "\n"
   ]
  },
  {
   "cell_type": "code",
   "execution_count": 17,
   "id": "a990348e-c8af-4e50-981f-5624cb75584d",
   "metadata": {},
   "outputs": [
    {
     "name": "stdout",
     "output_type": "stream",
     "text": [
      "{'sachin': 2, 'rajput': 1, 12: 2, 34: 2, 657: 1, 12.2: 1}\n"
     ]
    }
   ],
   "source": [
    "#Ques:13»»Create a code to count the occurrences of each element in a list and return a dictionary with elements as keys and their counts as values\u0012\n",
    "thislist=[\"sachin\",\"rajput\",12,34,657,12.2,12,34,\"sachin\"]\n",
    "count={}\n",
    "for i in thislist:\n",
    "    if i in count:\n",
    "        count[i]=count[i]+1\n",
    "    else:\n",
    "        count[i]=1\n",
    "print(count)"
   ]
  },
  {
   "cell_type": "code",
   "execution_count": null,
   "id": "13a95b10-161d-49f6-a13e-f128b3303fd2",
   "metadata": {},
   "outputs": [],
   "source": [
    "          \n",
    "#Ques:14»»\"\u0011\u0012 Write a code to reverse a list in-place without using any built-in reverse functions\u0012\n",
    "it_list=[\"buddy\",\"here\",\"sachin\",12]\n",
    "reverse=[]\n",
    "n=-4\n",
    "while n<0:\n",
    "    reverse.append(it_list)\n",
    "print(reverse)    \n",
    "\n"
   ]
  },
  {
   "cell_type": "code",
   "execution_count": 25,
   "id": "128644ff-c279-498a-b321-791d10705198",
   "metadata": {},
   "outputs": [
    {
     "name": "stdout",
     "output_type": "stream",
     "text": [
      "[12, 'sachin', 'here', 'buddy']\n"
     ]
    }
   ],
   "source": [
    "it_list = [\"buddy\", \"here\", \"sachin\", 12]\n",
    "reverse = []\n",
    "n = -1\n",
    "\n",
    "while abs(n) <= len(it_list):\n",
    "    reverse.append(it_list[n])\n",
    "    n -= 1\n",
    "\n",
    "print(reverse)"
   ]
  },
  {
   "cell_type": "code",
   "execution_count": 6,
   "id": "cf0a85e0-8287-42eb-9a03-d03485ad2651",
   "metadata": {},
   "outputs": [
    {
     "name": "stdout",
     "output_type": "stream",
     "text": [
      "[12, 'sachin', 'here', 'buddy']\n"
     ]
    }
   ],
   "source": [
    "#Ques:14»»\"\u0011\u0012 Write a code to reverse a list in-place without using any built-in reverse functions\u0012\n",
    "it_list=[\"buddy\",\"here\",\"sachin\",12]\n",
    "reverse=[]\n",
    "n=-1\n",
    "while n>= -len(it_list):\n",
    "    reverse.append(it_list[n])\n",
    "    n=n-1\n",
    "print(reverse)    \n"
   ]
  },
  {
   "cell_type": "code",
   "execution_count": 15,
   "id": "dd862b0a-4151-4d05-b906-535e3108fb53",
   "metadata": {},
   "outputs": [
    {
     "name": "stdout",
     "output_type": "stream",
     "text": [
      "[12, 14, 11, 15]\n"
     ]
    }
   ],
   "source": [
    "#Ques:15»»Implement a code to find and remove duplicates from a list while preserving the original order of elements\u0012\n",
    "def remove_duplicate(it_list):\n",
    "    without_dup=[]\n",
    "    output_list=[]\n",
    "    for i in it_list:\n",
    "        if i not in without_dup:\n",
    "            without_dup.append(i)\n",
    "            output_list.append(i) \n",
    "    return output_list        \n",
    "it_list=[12,14,11,15,12,11,14,11]\n",
    "result=remove_duplicate(it_list)\n",
    "print(result)"
   ]
  },
  {
   "cell_type": "code",
   "execution_count": 40,
   "id": "e949e93b-b86d-4c21-99a1-d6f987c664c0",
   "metadata": {},
   "outputs": [
    {
     "name": "stdout",
     "output_type": "stream",
     "text": [
      "yes guys it is in ascending order \n"
     ]
    }
   ],
   "source": [
    "#Ques:16»»Create a code to check if a given list is sorted (either in ascending or descending order) or not\u0012\n",
    "#lets check for the sorted in ascending order\n",
    "it_list=[12,13,14,23,34,123,435,543]\n",
    "def here_ascending(it_list):\n",
    "    for i in range(len(it_list)-1):\n",
    "         if it_list[i]>it_list[i+1]:\n",
    "            return False\n",
    "    return True\n",
    "if here_ascending(it_list):\n",
    "    print(\"yes guys it is in ascending order \")\n",
    "else :\n",
    "    print(\"guys go for the checking of descending order\")\n",
    "    \n",
    "            \n"
   ]
  },
  {
   "cell_type": "code",
   "execution_count": 64,
   "id": "11890e05-f7c9-470a-b5b2-2f7492c4831a",
   "metadata": {},
   "outputs": [
    {
     "name": "stdout",
     "output_type": "stream",
     "text": [
      "here is two combined sorted list»»»»»» [3, 12, 12, 21, 23, 23, 34, 43, 45, 56, 65, 67, 67, 76, 132, 345, 435]\n"
     ]
    }
   ],
   "source": [
    "#Ques:17»»Write a code to merge two sorted lists into a single sorted list\u0012\n",
    "it_list=[12,435,345,21,56,76,23,67]\n",
    "here=[132,34,23,43,65,67,45,3,12]\n",
    "it_list.sort()\n",
    "here.sort()\n",
    "it_list.extend(here)\n",
    "it_list.sort()\n",
    "print(\"here is two combined sorted list»»»»»»\",it_list)\n",
    "\n"
   ]
  },
  {
   "cell_type": "code",
   "execution_count": 69,
   "id": "088f769f-873b-4b1d-8ba0-4c77e6c5a6e9",
   "metadata": {},
   "outputs": [
    {
     "name": "stdout",
     "output_type": "stream",
     "text": [
      "here is the intersection of these two list items guys: [456, 34, 43, 12]\n"
     ]
    }
   ],
   "source": [
    "#Ques:18»»Implement a code to find the intersection of two given lists\u0012\n",
    "first=[12 ,34, 34 ,23 ,13, 12, 43 ,456]\n",
    "second=[12 ,34 ,54 ,7,5, 43 ,213, 4 ,67, 4, 456]\n",
    "here=set(first)\n",
    "there=set(second)\n",
    "intersection=here.intersection(there)\n",
    "print(\"here is the intersection of these two list items guys:\",list(intersection))\n",
    "\n"
   ]
  },
  {
   "cell_type": "code",
   "execution_count": 70,
   "id": "9e9cb691-28a1-4186-9af1-225c6c3a0e62",
   "metadata": {},
   "outputs": [
    {
     "name": "stdout",
     "output_type": "stream",
     "text": [
      "hey guys this is the union of the two list items : [67, 4, 5, 7, 456, 12, 13, 213, 23, 34, 43, 54]\n"
     ]
    }
   ],
   "source": [
    "#Ques:19»»Create a code to find the union of two lists without duplicates\u0012\n",
    "first=[12 ,34, 34 ,23 ,13, 12, 43 ,456]\n",
    "second=[12 ,34 ,54 ,7,5, 43 ,213, 4 ,67, 4, 456]\n",
    "here=set(first)\n",
    "there=set(second)\n",
    "union=here.union(there)\n",
    "print(\"hey guys this is the union of the two list items :\",list(union))\n"
   ]
  },
  {
   "cell_type": "code",
   "execution_count": 82,
   "id": "6640a167-15d7-4e8a-a8c8-7bf4ce84bba1",
   "metadata": {},
   "outputs": [
    {
     "name": "stdout",
     "output_type": "stream",
     "text": [
      "hey user this is the origianal one : [12, 45, 34, 67, 34, 45, 23, 23, 5756, 23, 2332]\n",
      "hey user this is shuffled one: [34, 12, 23, 23, 45, 67, 5756, 23, 45, 34, 2332]\n"
     ]
    }
   ],
   "source": [
    "#Ques:20»»Write a code to shuffle a given list randomly without using any built-in shuffle functions\u0012\n",
    "import random \n",
    "\n",
    "def shuffle_list(here):\n",
    "     for i in range(len(here)-1,0,-1):\n",
    "            j=random.randint(0,i)\n",
    "            here[i],here[j]= here[j],here[i]\n",
    "here=[12,45,34,67,34,45,23,23,5756,23,2332]\n",
    "print(\"hey user this is the origianal one :\",here)\n",
    "shuffle_list(here)\n",
    "\n",
    "print(\"hey user this is shuffled one:\",here)"
   ]
  },
  {
   "cell_type": "code",
   "execution_count": 96,
   "id": "9e70cabf-97bd-4ff0-913d-9a734181ddf1",
   "metadata": {},
   "outputs": [
    {
     "name": "stdout",
     "output_type": "stream",
     "text": [
      "here is the new tuple which contain the common  elements of above mentioned two tuples (34, 233, 12, 45, 23)\n"
     ]
    }
   ],
   "source": [
    "#Ques:21»» Write a code that takes two tuples as input and returns a new tuple containing elements that are common to both input tuples\u0012\n",
    "here=(12,23,12,34,45,34,23,233)\n",
    "there=(12,45,233,34,4,5,24,245,23)\n",
    "a=set(here)\n",
    "b=set(there)\n",
    "c=list(a.intersection(b))\n",
    "d=[]\n",
    "for i in range(len(c)):\n",
    "    d.append(c[i])\n",
    "print(\"here is the new tuple which contain the common  elements of above mentioned two tuples\",tuple(d))    \n",
    "    "
   ]
  },
  {
   "cell_type": "code",
   "execution_count": 7,
   "id": "ab9fd764-8e08-4f97-8940-8e40af83102e",
   "metadata": {},
   "outputs": [
    {
     "name": "stdin",
     "output_type": "stream",
     "text": [
      "hey user enter the set values that u wants: 12,34,23,34,23,223\n",
      "hey bro enter the second string that u wants: 12,34,344,45,45,442\n"
     ]
    },
    {
     "name": "stdout",
     "output_type": "stream",
     "text": [
      "here is the intersection: {34, 12}\n"
     ]
    }
   ],
   "source": [
    "#Ques:22»»Create a code that prompts the user to enter two sets of integers separated by commas. Then, print the intersection of these two sets\u0012\n",
    "set1=(input(\"hey user enter the set values that u wants:\"))\n",
    "set2=(input(\"hey bro enter the second string that u wants:\"))\n",
    "c=set(map(int,set1.split(',')))\n",
    "d=set(map(int,set2.split(',')))\n",
    "print(\"here is the intersection:\",c&d)\n",
    "\n",
    "\n",
    "\n",
    "\n"
   ]
  },
  {
   "cell_type": "code",
   "execution_count": 11,
   "id": "8d24a723-7100-42d4-9700-973ac0ccf0fc",
   "metadata": {},
   "outputs": [
    {
     "name": "stdout",
     "output_type": "stream",
     "text": [
      "hey guys this is your concatenated_tuple::»» (12, 123, 543, 56, 67, 45, 23, 13, 34, 56, 67, 34, 23, 435)\n"
     ]
    }
   ],
   "source": [
    "#Ques:23»»\u0012Write a code to concatenate two tuples.The function should take two tuples as input and return a new tuple containing elements from both input tuples.\n",
    "def concatenate_tuple(first,second):\n",
    "    return first+second\n",
    "    \n",
    "first=(12,123,543,56,67,45,23)\n",
    "second=(13,34,56,67,34,23,435)\n",
    "result=concatenate_tuple(first,second)\n",
    "print(\"hey guys this is your concatenated_tuple::»»\",result)"
   ]
  },
  {
   "cell_type": "code",
   "execution_count": 2,
   "id": "1c663d28-ba0e-430c-be15-ab6189e1ba9e",
   "metadata": {},
   "outputs": [
    {
     "name": "stdin",
     "output_type": "stream",
     "text": [
      "hey put the string: sahil,aman,rahul\n",
      "hey put the second string rahul\n"
     ]
    },
    {
     "data": {
      "text/plain": [
       "{'aman', 'sahil'}"
      ]
     },
     "execution_count": 2,
     "metadata": {},
     "output_type": "execute_result"
    }
   ],
   "source": [
    "#Ques:24»» Develop a code that prompts the user to input two sets of strings. Then, print the elements that are present in the first set but not in the second set\n",
    "def it_split(lst):\n",
    "    return set(lst.split(','))\n",
    "a=input(\"hey put the string:\")\n",
    "b=input(\"hey put the second string\")\n",
    "c=it_split(a)\n",
    "d=it_split(b)\n",
    "difference=c-d\n",
    "difference\n",
    "\n",
    "\n"
   ]
  },
  {
   "cell_type": "code",
   "execution_count": 1,
   "id": "4c19c685-658c-436f-b091-1fd09ca6183a",
   "metadata": {},
   "outputs": [
    {
     "name": "stdin",
     "output_type": "stream",
     "text": [
      "hey user enter the tuple elements: sachin,rahul,sahil\n",
      "hey enter starting index: 0\n",
      "hey enter the ending index: 1\n"
     ]
    },
    {
     "name": "stdout",
     "output_type": "stream",
     "text": [
      "hey this is the slicing of tuple acc. to user: ('sachin',)\n"
     ]
    }
   ],
   "source": [
    "#Ques:25»»Create a code that takes a tuple and two integers as input.The function should return a new tuple containing elements from the original tuple within the specified range of indices&\n",
    "#Ques:25»»Create a code that takes a tuple and two integers as input.The function should return a new tuple containing elements from the original tuple within the specified range of indices&\n",
    "def slice_tuple(input_tuple,starting_index,ending_index):\n",
    "    return input_tuple[starting_index:ending_index]\n",
    "user=input(\"hey user enter the tuple elements:\")\n",
    "user_tuple=tuple(user.split(','))\n",
    "starting_index=int(input(\"hey enter starting index:\"))\n",
    "ending_index=int(input(\"hey enter the ending index:\"))\n",
    "new_tuple= slice_tuple(user_tuple,starting_index,ending_index)\n",
    "\n",
    "print(\"hey this is the slicing of tuple acc. to user:\"new_tuple)          \n",
    "        \n",
    "        \n",
    "        "
   ]
  },
  {
   "cell_type": "code",
   "execution_count": 5,
   "id": "c091abe4-89b5-47a2-b214-0f455e8e550e",
   "metadata": {},
   "outputs": [
    {
     "name": "stdin",
     "output_type": "stream",
     "text": [
      "hey enter the data : sachin,mohit,rohit\n",
      "hey enter the data: rajput\n"
     ]
    },
    {
     "data": {
      "text/plain": [
       "{'mohit', 'rajput', 'rohit', 'sachin'}"
      ]
     },
     "execution_count": 5,
     "metadata": {},
     "output_type": "execute_result"
    }
   ],
   "source": [
    "#Ques:26»»Write a code that prompts the user to input two sets of characters. Then, print the union of these two sets&\n",
    "user=input(\"hey enter the data :\")\n",
    "user1=input(\"hey enter the data:\")\n",
    "user_set=set(user.split(','))\n",
    "user1_set=set(user1.split(','))\n",
    "user2=user_set.union(user1_set)\n",
    "user2\n"
   ]
  },
  {
   "cell_type": "code",
   "execution_count": 18,
   "id": "818f5731-7fcf-46f5-a6aa-98a7d0a8d8d0",
   "metadata": {},
   "outputs": [
    {
     "name": "stdin",
     "output_type": "stream",
     "text": [
      "hey user enter the value: 12,243,2345\n"
     ]
    },
    {
     "name": "stdout",
     "output_type": "stream",
     "text": [
      "2345\n"
     ]
    }
   ],
   "source": [
    "#Ques:27»» Develop a code that takes a tuple of integers as input. The function should return the maximum and minimum values from the tuple using tuple unpacking\n",
    "def maxi(user1):\n",
    "    maximum=user1[0]\n",
    "    for i in range(1,len(user1)):\n",
    "        if user1[i]>maximum:\n",
    "            maximum=user1[i]\n",
    "    return maximum\n",
    "user=input(\"hey user enter the value:\")\n",
    "user1=list(map(int,user.split(',')))\n",
    "max_value=maxi(user1)\n",
    "print(max_value)\n",
    "\n"
   ]
  },
  {
   "cell_type": "code",
   "execution_count": 22,
   "id": "90d0d5da-c1a4-480e-b362-e179fbd1bdb6",
   "metadata": {},
   "outputs": [
    {
     "name": "stdin",
     "output_type": "stream",
     "text": [
      "hey enter the value: 12,34,435,234,14\n",
      "hey enter the value: 12,34,435,234,14,213,2345,123,1223\n"
     ]
    },
    {
     "name": "stdout",
     "output_type": "stream",
     "text": [
      "it is union: {'123', '435', '2345', '34', '234', '12', '1223', '213', '14'}\n",
      "it is the intersection: {'435', '34', '234', '12', '14'}\n",
      "it is the difference: set()\n"
     ]
    }
   ],
   "source": [
    "#Ques:28»»Create a code that defines two sets of integers. Then, print the union, intersection, and difference of these two sets&\n",
    "here=input(\"hey enter the value:\")\n",
    "there=input(\"hey enter the value:\")\n",
    "here1=set(here.split(','))\n",
    "there1=set(there.split(','))\n",
    "print(\"it is union:\",here1.union(there1))\n",
    "print(\"it is the intersection:\",here1.intersection(there1))\n",
    "print(\"it is the difference:\",here1-there1)\n"
   ]
  },
  {
   "cell_type": "code",
   "execution_count": 11,
   "id": "7c3280d0-f7a2-4605-a2e2-1b25f1f7675d",
   "metadata": {},
   "outputs": [
    {
     "name": "stdin",
     "output_type": "stream",
     "text": [
      "hey enter the data: 12,21,23,12,2134,12,23,12\n",
      "enter the element 12\n"
     ]
    },
    {
     "name": "stdout",
     "output_type": "stream",
     "text": [
      "hey this is the count of this number: 4\n"
     ]
    }
   ],
   "source": [
    "#Ques:29»»Write a code that takes a tuple and an element as input. The function should return the count of occurrences of the given element in the tuple&\n",
    "def counts(here,here_value):\n",
    "    count=0\n",
    "    for i in range(len(here)):\n",
    "        if here[i]==here_value:\n",
    "            count=count+1\n",
    "    return count        \n",
    "here=tuple(map(int,input(\"hey enter the data:\").split(',')))\n",
    "here_value=int(input(\"enter the element\"))\n",
    "\n",
    "counting=counts(here,here_value)\n",
    "print(\"hey this is the count of this number:\",counting)\n"
   ]
  },
  {
   "cell_type": "code",
   "execution_count": null,
   "id": "9e4af765-69ca-421c-ab99-c5b32c1f91f2",
   "metadata": {},
   "outputs": [],
   "source": [
    "#Ques:30»» Develop a code that prompts the user to input two sets of strings. Then, print the symmetric difference of these two sets\n",
    "here1=set(map(int,input(\"hey enter the values:\").split(',')))\n",
    "there1=set(map(int,input(\"hey enter the values:\").split(',')))\n",
    "those1=here^there\n",
    "print(\"this is the symmetric difference of two given sets:\",those1)\n"
   ]
  },
  {
   "cell_type": "code",
   "execution_count": null,
   "id": "5d77b28c-9317-493a-a6e5-b7918dd7984c",
   "metadata": {},
   "outputs": [],
   "source": []
  },
  {
   "cell_type": "code",
   "execution_count": null,
   "id": "410f48f6-7326-47e5-9162-68d77ca6df24",
   "metadata": {},
   "outputs": [],
   "source": []
  },
  {
   "cell_type": "code",
   "execution_count": null,
   "id": "31c300c6-0d55-4868-89dd-0c64981c0e2a",
   "metadata": {},
   "outputs": [],
   "source": []
  },
  {
   "cell_type": "code",
   "execution_count": null,
   "id": "ea62dda9-3e33-4314-9f74-589b22470ede",
   "metadata": {},
   "outputs": [],
   "source": []
  },
  {
   "cell_type": "code",
   "execution_count": null,
   "id": "f5037abf-91b9-4558-828b-746649932866",
   "metadata": {},
   "outputs": [],
   "source": []
  },
  {
   "cell_type": "code",
   "execution_count": null,
   "id": "535bcb62-2a0c-4bff-8a36-b87408dce6c7",
   "metadata": {},
   "outputs": [],
   "source": []
  },
  {
   "cell_type": "code",
   "execution_count": null,
   "id": "83aff616-2a0d-4a7b-9f92-001975b06f01",
   "metadata": {},
   "outputs": [],
   "source": []
  },
  {
   "cell_type": "code",
   "execution_count": null,
   "id": "bbd70911-06bb-4472-a92d-4f55f70a2106",
   "metadata": {},
   "outputs": [],
   "source": []
  },
  {
   "cell_type": "code",
   "execution_count": null,
   "id": "e75b6c10-48bd-4a31-bef7-a8eac6f67c52",
   "metadata": {},
   "outputs": [],
   "source": []
  },
  {
   "cell_type": "code",
   "execution_count": null,
   "id": "8048e6b8-5dcc-4063-8cfe-7ca5230b228f",
   "metadata": {},
   "outputs": [],
   "source": []
  },
  {
   "cell_type": "code",
   "execution_count": null,
   "id": "b989dc29-b0cd-434b-a441-47995cf30a9d",
   "metadata": {},
   "outputs": [],
   "source": []
  },
  {
   "cell_type": "code",
   "execution_count": null,
   "id": "569c1771-6d6d-49b3-ac8c-c0072001b563",
   "metadata": {},
   "outputs": [],
   "source": []
  },
  {
   "cell_type": "code",
   "execution_count": null,
   "id": "78175d47-6f5a-4c0a-a44b-756552ab5094",
   "metadata": {},
   "outputs": [],
   "source": []
  },
  {
   "cell_type": "code",
   "execution_count": null,
   "id": "512e20c5-057b-4b57-bca9-cc658ec8a3d3",
   "metadata": {},
   "outputs": [],
   "source": []
  },
  {
   "cell_type": "code",
   "execution_count": null,
   "id": "2ef9fa52-d575-4601-957d-bd6ddaf9e88a",
   "metadata": {},
   "outputs": [],
   "source": []
  },
  {
   "cell_type": "code",
   "execution_count": null,
   "id": "74cceeb8-98f5-4052-8b01-206bbed71ad4",
   "metadata": {},
   "outputs": [],
   "source": []
  },
  {
   "cell_type": "code",
   "execution_count": null,
   "id": "91dbb595-5554-4f51-9e14-4be6f8a295a5",
   "metadata": {},
   "outputs": [],
   "source": []
  },
  {
   "cell_type": "code",
   "execution_count": null,
   "id": "00572609-1906-4ef5-a5a4-f03ae9898884",
   "metadata": {},
   "outputs": [],
   "source": []
  },
  {
   "cell_type": "code",
   "execution_count": null,
   "id": "f4d940ac-5774-497d-9c35-78c5c9aa1770",
   "metadata": {},
   "outputs": [],
   "source": []
  },
  {
   "cell_type": "code",
   "execution_count": null,
   "id": "d1b3c633-d001-4d46-8e72-284fe8f8187c",
   "metadata": {},
   "outputs": [],
   "source": []
  },
  {
   "cell_type": "code",
   "execution_count": null,
   "id": "2cc6ca18-8639-4722-8cfd-1fbc63a30dbe",
   "metadata": {},
   "outputs": [],
   "source": []
  },
  {
   "cell_type": "code",
   "execution_count": null,
   "id": "601b775a-0007-4303-913a-a18e22fa38d7",
   "metadata": {},
   "outputs": [],
   "source": []
  },
  {
   "cell_type": "code",
   "execution_count": null,
   "id": "9dc9944f-5776-4815-b926-6f65e3b7753a",
   "metadata": {},
   "outputs": [],
   "source": []
  },
  {
   "cell_type": "code",
   "execution_count": null,
   "id": "72c4e9e2-1b6c-4a62-bb74-0e38bbcb16d0",
   "metadata": {},
   "outputs": [],
   "source": []
  },
  {
   "cell_type": "code",
   "execution_count": null,
   "id": "69de8702-522c-43d2-82c1-fcb1097475be",
   "metadata": {},
   "outputs": [],
   "source": []
  },
  {
   "cell_type": "code",
   "execution_count": null,
   "id": "ba98f151-8e50-478e-81cf-280597e13fa5",
   "metadata": {},
   "outputs": [],
   "source": []
  },
  {
   "cell_type": "code",
   "execution_count": null,
   "id": "e977339d-5eda-474e-a40c-cda2480eeac1",
   "metadata": {},
   "outputs": [],
   "source": []
  },
  {
   "cell_type": "code",
   "execution_count": null,
   "id": "89043a80-0760-4680-8ebb-cff10bf66083",
   "metadata": {},
   "outputs": [],
   "source": []
  },
  {
   "cell_type": "code",
   "execution_count": null,
   "id": "3a306ff0-bd77-42bb-88c9-306dad6a75c4",
   "metadata": {},
   "outputs": [],
   "source": []
  },
  {
   "cell_type": "code",
   "execution_count": null,
   "id": "b1200104-c06b-4291-807b-8468799e3983",
   "metadata": {},
   "outputs": [],
   "source": []
  },
  {
   "cell_type": "code",
   "execution_count": null,
   "id": "a601b670-e62c-488d-b1ce-b884b290a816",
   "metadata": {},
   "outputs": [],
   "source": []
  },
  {
   "cell_type": "code",
   "execution_count": null,
   "id": "cb0277de-1867-45e2-8180-c198e227e2c1",
   "metadata": {},
   "outputs": [],
   "source": []
  },
  {
   "cell_type": "code",
   "execution_count": null,
   "id": "7dfc5188-52d5-4ac5-bbad-dac22938964d",
   "metadata": {},
   "outputs": [],
   "source": []
  },
  {
   "cell_type": "code",
   "execution_count": null,
   "id": "c837bb7a-2783-4a26-90a9-68330420d98f",
   "metadata": {},
   "outputs": [],
   "source": []
  },
  {
   "cell_type": "code",
   "execution_count": null,
   "id": "3c033022-97fa-4189-bdb9-61ef029b890d",
   "metadata": {},
   "outputs": [],
   "source": []
  },
  {
   "cell_type": "code",
   "execution_count": null,
   "id": "d6598bc3-bb4d-4b5c-9317-474d6d69b004",
   "metadata": {},
   "outputs": [],
   "source": []
  },
  {
   "cell_type": "code",
   "execution_count": null,
   "id": "d027f5d9-da1b-44a6-a0fd-5d556550caca",
   "metadata": {},
   "outputs": [],
   "source": []
  },
  {
   "cell_type": "code",
   "execution_count": null,
   "id": "ccee528b-85e4-43a3-91ed-490ef924549a",
   "metadata": {},
   "outputs": [],
   "source": []
  },
  {
   "cell_type": "code",
   "execution_count": null,
   "id": "b77b9029-4864-4c4d-b12f-a56b338daec0",
   "metadata": {},
   "outputs": [],
   "source": []
  },
  {
   "cell_type": "code",
   "execution_count": null,
   "id": "98850a6c-1905-4b57-afec-d8cefeb3432e",
   "metadata": {},
   "outputs": [],
   "source": []
  },
  {
   "cell_type": "code",
   "execution_count": null,
   "id": "94849e29-baae-49b0-9c18-225f298cad60",
   "metadata": {},
   "outputs": [],
   "source": []
  },
  {
   "cell_type": "code",
   "execution_count": null,
   "id": "604c09bc-dd1c-465d-a518-7662f2606ed3",
   "metadata": {},
   "outputs": [],
   "source": []
  },
  {
   "cell_type": "code",
   "execution_count": null,
   "id": "0a6c2163-a948-4400-bf99-a792483bfda1",
   "metadata": {},
   "outputs": [],
   "source": []
  },
  {
   "cell_type": "code",
   "execution_count": null,
   "id": "50efa5f8-4603-4f6d-9e66-30b2b0b88d10",
   "metadata": {},
   "outputs": [],
   "source": []
  },
  {
   "cell_type": "code",
   "execution_count": null,
   "id": "a16feb00-edc1-4e17-bd67-6c290b3366b5",
   "metadata": {},
   "outputs": [],
   "source": []
  },
  {
   "cell_type": "code",
   "execution_count": null,
   "id": "120e3a4c-0c17-4477-ba3c-5ef0e912b741",
   "metadata": {},
   "outputs": [],
   "source": []
  },
  {
   "cell_type": "code",
   "execution_count": null,
   "id": "26958a07-79c5-4642-9dee-182d4eed1130",
   "metadata": {},
   "outputs": [],
   "source": []
  },
  {
   "cell_type": "code",
   "execution_count": null,
   "id": "8ac03a80-4984-45ab-946c-b4b93d8b2eed",
   "metadata": {},
   "outputs": [],
   "source": []
  },
  {
   "cell_type": "code",
   "execution_count": null,
   "id": "7579953c-3abe-4f85-9546-c099a55ec319",
   "metadata": {},
   "outputs": [],
   "source": []
  },
  {
   "cell_type": "code",
   "execution_count": null,
   "id": "58d17228-08fb-4dc6-a406-548799dc18dd",
   "metadata": {},
   "outputs": [],
   "source": []
  },
  {
   "cell_type": "code",
   "execution_count": null,
   "id": "61c265ed-fd2c-4719-958b-ad8f5dbb1281",
   "metadata": {},
   "outputs": [],
   "source": []
  },
  {
   "cell_type": "code",
   "execution_count": null,
   "id": "d304ecf2-8d07-41f5-a939-b0ba5306fd4f",
   "metadata": {},
   "outputs": [],
   "source": []
  },
  {
   "cell_type": "code",
   "execution_count": null,
   "id": "26f3e1ec-d940-4ca6-adda-0553304f08fc",
   "metadata": {},
   "outputs": [],
   "source": []
  },
  {
   "cell_type": "code",
   "execution_count": null,
   "id": "1c52d445-2fbf-4aba-bc64-8e42ea78a170",
   "metadata": {},
   "outputs": [],
   "source": []
  }
 ],
 "metadata": {
  "kernelspec": {
   "display_name": "Python 3 (ipykernel)",
   "language": "python",
   "name": "python3"
  },
  "language_info": {
   "codemirror_mode": {
    "name": "ipython",
    "version": 3
   },
   "file_extension": ".py",
   "mimetype": "text/x-python",
   "name": "python",
   "nbconvert_exporter": "python",
   "pygments_lexer": "ipython3",
   "version": "3.10.8"
  }
 },
 "nbformat": 4,
 "nbformat_minor": 5
}
